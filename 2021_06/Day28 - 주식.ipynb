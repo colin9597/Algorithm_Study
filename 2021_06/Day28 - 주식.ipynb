{
 "cells": [
  {
   "cell_type": "markdown",
   "id": "c9b028a7",
   "metadata": {},
   "source": [
    "# 주식\n",
    "- 링크 https://www.acmicpc.net/problem/11501\n"
   ]
  },
  {
   "cell_type": "markdown",
   "id": "4d4eeace",
   "metadata": {},
   "source": [
    "### 1. 혼자 풀이"
   ]
  },
  {
   "cell_type": "code",
   "execution_count": 1,
   "id": "8eeb244b",
   "metadata": {},
   "outputs": [
    {
     "name": "stdout",
     "output_type": "stream",
     "text": [
      "3\n",
      "3\n",
      "10 7 6\n",
      "0\n",
      "3\n",
      "3 5 9\n",
      "10\n",
      "5\n",
      "1 1 3 1 2\n",
      "5\n"
     ]
    }
   ],
   "source": [
    "t = int(input())\n",
    "\n",
    "for i in range(t):\n",
    "    n = int(input())\n",
    "    stock_price = list(map(int, input().split()))\n",
    "    max_price = max(stock_price)\n",
    "\n",
    "    benefits = []\n",
    "    for p in range(n-1):\n",
    "        benefit = max(stock_price[(p+1):]) - stock_price[p]\n",
    "        if benefit > 0:\n",
    "            benefits.append(benefit)\n",
    "\n",
    "    print(sum(benefits))"
   ]
  },
  {
   "cell_type": "markdown",
   "id": "f6517931",
   "metadata": {},
   "source": [
    "> 예제는 성공했으나, 제출시 시간초과로 실패."
   ]
  },
  {
   "cell_type": "markdown",
   "id": "5ba2b738",
   "metadata": {},
   "source": [
    "### 2. 구글링"
   ]
  },
  {
   "cell_type": "code",
   "execution_count": 2,
   "id": "5e2b59ee",
   "metadata": {},
   "outputs": [
    {
     "name": "stdout",
     "output_type": "stream",
     "text": [
      "3\n",
      "3\n",
      "10 7 6\n",
      "0\n",
      "3\n",
      "3 5 9\n",
      "10\n",
      "5\n",
      "1 1 3 1 2\n",
      "5\n"
     ]
    }
   ],
   "source": [
    "T = int(input())\n",
    "\n",
    "for _ in range(T):\n",
    "    N = int(input())\n",
    "    result = 0\n",
    "\n",
    "    queue = list(map(int, input().split()))\n",
    "    \n",
    "    while True:\n",
    "        if len(queue)==0:\n",
    "            break\n",
    "        \n",
    "        num = queue.pop()\n",
    "\n",
    "        for i in range(len(queue)-1,-1,-1):\n",
    "            if num >= queue[i]:\n",
    "                result += (num - queue[i])\n",
    "                queue.pop()\n",
    "            else: \n",
    "                break\n",
    "    \n",
    "\n",
    "    print(result)"
   ]
  },
  {
   "cell_type": "markdown",
   "id": "9670d3d3",
   "metadata": {},
   "source": [
    "> 계산된 날 별 주가를 리스트에서 제거하여 쓸대없는 계산을 줄임."
   ]
  }
 ],
 "metadata": {
  "kernelspec": {
   "display_name": "DH",
   "language": "python",
   "name": "dh"
  },
  "language_info": {
   "codemirror_mode": {
    "name": "ipython",
    "version": 3
   },
   "file_extension": ".py",
   "mimetype": "text/x-python",
   "name": "python",
   "nbconvert_exporter": "python",
   "pygments_lexer": "ipython3",
   "version": "3.8.10"
  }
 },
 "nbformat": 4,
 "nbformat_minor": 5
}
