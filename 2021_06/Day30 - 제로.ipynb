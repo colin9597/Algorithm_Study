{
 "cells": [
  {
   "cell_type": "markdown",
   "id": "58301033",
   "metadata": {},
   "source": [
    "# 제로\n",
    "- 링크 https://www.acmicpc.net/problem/10773"
   ]
  },
  {
   "cell_type": "code",
   "execution_count": 1,
   "id": "77398685",
   "metadata": {},
   "outputs": [
    {
     "name": "stdout",
     "output_type": "stream",
     "text": [
      "10\n",
      "1\n",
      "3\n",
      "5\n",
      "4\n",
      "0\n",
      "0\n",
      "7\n",
      "0\n",
      "0\n",
      "6\n",
      "7\n"
     ]
    }
   ],
   "source": [
    "# K개의 정수\n",
    "K = int(input())\n",
    "\n",
    "# 장부\n",
    "cog = []\n",
    "for _ in range(K):\n",
    "    n = int(input())\n",
    "    # 0이 아니면 장부에 입력\n",
    "    if n != 0:\n",
    "        cog.append(n)\n",
    "    # 0이면 최근에 쓴 수 제거\n",
    "    else:\n",
    "        cog.pop()\n",
    "        \n",
    "# 장부에 적어 낸 수의 합 출력\n",
    "print(sum(cog))"
   ]
  }
 ],
 "metadata": {
  "kernelspec": {
   "display_name": "DH",
   "language": "python",
   "name": "dh"
  },
  "language_info": {
   "codemirror_mode": {
    "name": "ipython",
    "version": 3
   },
   "file_extension": ".py",
   "mimetype": "text/x-python",
   "name": "python",
   "nbconvert_exporter": "python",
   "pygments_lexer": "ipython3",
   "version": "3.8.10"
  }
 },
 "nbformat": 4,
 "nbformat_minor": 5
}
