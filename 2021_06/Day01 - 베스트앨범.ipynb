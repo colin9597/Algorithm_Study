{
 "cells": [
  {
   "cell_type": "markdown",
   "id": "32a57025",
   "metadata": {},
   "source": [
    "# 베스트앨범\n",
    "- 링크 https://programmers.co.kr/learn/courses/30/lessons/42579"
   ]
  },
  {
   "cell_type": "markdown",
   "id": "3d786f0a",
   "metadata": {},
   "source": [
    "### 1. 혼자 풀이"
   ]
  },
  {
   "cell_type": "code",
   "execution_count": 1,
   "id": "e19554d2",
   "metadata": {},
   "outputs": [],
   "source": [
    "# 장르별 재생 횟수에 따른 정렬 및 상위 2곡의 인덱스 리턴\n",
    "def sortValue(genre_idx_dict, genre, plays):\n",
    "    # 재생 횟수에 따라 정렬을 하기 위한 딕셔너리 \n",
    "    sort_dict = {}\n",
    "    for i in genre_idx_dict[genre]:\n",
    "        sort_dict[i] = plays[i]\n",
    "    # 재생 횟수에 따라 정렬\n",
    "    sort_dict = sorted(sort_dict.items(), key = lambda x: x[1], reverse = True)\n",
    "    \n",
    "    # 상위 2곡의 인덱스를 추출하기 위한 리스트\n",
    "    sort_idx = []\n",
    "    for j in range(2):\n",
    "        sort_idx.append(sort_dict[j][0])\n",
    "    return sort_idx"
   ]
  },
  {
   "cell_type": "code",
   "execution_count": 2,
   "id": "21a9aab7",
   "metadata": {},
   "outputs": [],
   "source": [
    "def solution(genres, plays):\n",
    "    genre_dict = {}         # 장르별 재생 횟수 합계를 담을 딕셔너리\n",
    "    genre_idx_dict = {}     # 장르별 인덱스를 담을 딕셔너리\n",
    "    for g in set(genres):  # 딕셔너리 초기화\n",
    "        genre_dict[g] = 0\n",
    "        genre_idx_dict[g] = []\n",
    "\n",
    "    for i, value in enumerate(genres):\n",
    "        genre_dict[value] += plays[i]   # 장르별 재생 횟수 합계\n",
    "        genre_idx_dict[value].append(i) # 장르별 인덱스\n",
    "\n",
    "    # 재생 횟수에 따라 장르 정렬\n",
    "    genre_sorted = sorted(genre_dict.keys(), key = lambda x: x[1], reverse = True)\n",
    "\n",
    "    # 조건에 따라 노래의 고유번호를 순서대로 담음.\n",
    "    answer = []\n",
    "    for g in genre_sorted:\n",
    "        answer += sortValue(genre_idx_dict, g, plays)\n",
    "\n",
    "    return answer"
   ]
  },
  {
   "cell_type": "code",
   "execution_count": 3,
   "id": "07439085",
   "metadata": {},
   "outputs": [],
   "source": [
    "genres = [\"classic\", \"pop\", \"classic\", \"classic\", \"pop\"]\n",
    "plays = [500, 600, 150, 800, 2500]"
   ]
  },
  {
   "cell_type": "code",
   "execution_count": 4,
   "id": "bbdd18dc",
   "metadata": {},
   "outputs": [
    {
     "data": {
      "text/plain": [
       "[4, 1, 3, 0]"
      ]
     },
     "execution_count": 4,
     "metadata": {},
     "output_type": "execute_result"
    }
   ],
   "source": [
    "solution(genres, plays)"
   ]
  },
  {
   "cell_type": "markdown",
   "id": "a882be25",
   "metadata": {},
   "source": [
    "> 딕셔너리를 사용하여 입출력 에제는 성공  \n",
    "\n",
    "> 하지만 테스트에서 다수 실패"
   ]
  },
  {
   "cell_type": "code",
   "execution_count": 5,
   "id": "dfaf468d",
   "metadata": {},
   "outputs": [],
   "source": [
    "def solution(genres, plays): \n",
    "    answer = []; \n",
    "    genres_plays = {}; \n",
    "    for i in range(len(plays)): # 1) 장르별 재생수를 얻는 부분 \n",
    "        g = genres[i]; \n",
    "        p = plays[i]; \n",
    "        if g not in genres_plays: \n",
    "            genres_plays[g] = p; # 키가 없으면 새로 추가해주고 \n",
    "        else: \n",
    "            genres_plays[g] += p; # 키가 이미 있으면 값만 업데이트한다. \n",
    "        \n",
    "    # 2) dictionary를 정렬하는 방법. lambda 함수를 사용했다. \n",
    "    res = sorted(genres_plays.items(), key=(lambda x: x[1]), reverse = True) \n",
    "    \n",
    "    # 3) 장르별 No. 1, No. 2를 찾는 부분 \n",
    "    for i in range(len(res)): # 장르: res[i][0] \n",
    "        first_play = 0; \n",
    "        second_play = 0; \n",
    "        first_play_index = -1; \n",
    "        second_play_index = -1; \n",
    "        for j in range(len(plays)): \n",
    "            if genres[j] == res[i][0]: # 장르가 일치하면, \n",
    "                if plays[j] > first_play: # 재생수가 현재 No. 1보다 높은지 비교 \n",
    "                    second_play = first_play; # 현재 No. 1이 No. 2로 밀려난다 \n",
    "                    second_play_index = first_play_index; \n",
    "                    first_play = plays[j]; \n",
    "                    first_play_index = j;\n",
    "                elif plays[j] > second_play: # No. 1보단 낮다면, No. 2보단 높은지 비교 \n",
    "                    second_play = plays[j]; \n",
    "                    second_play_index = j; \n",
    "        if first_play_index != -1: # 4) 곡 번호를 넣는 부분 \n",
    "            answer.append(first_play_index); \n",
    "            if second_play_index != -1: # 곡이 하나뿐이라 이걸 못찾은 경우 -1일 것 \n",
    "                answer.append(second_play_index); \n",
    "    \n",
    "    return answer"
   ]
  },
  {
   "cell_type": "code",
   "execution_count": 6,
   "id": "bc3a8f39",
   "metadata": {},
   "outputs": [],
   "source": [
    "genres = [\"classic\", \"pop\", \"classic\", \"classic\", \"pop\"]\n",
    "plays = [500, 600, 150, 800, 2500]"
   ]
  },
  {
   "cell_type": "code",
   "execution_count": 7,
   "id": "059c0dca",
   "metadata": {},
   "outputs": [
    {
     "data": {
      "text/plain": [
       "[4, 1, 3, 0]"
      ]
     },
     "execution_count": 7,
     "metadata": {},
     "output_type": "execute_result"
    }
   ],
   "source": [
    "solution(genres, plays)"
   ]
  }
 ],
 "metadata": {
  "kernelspec": {
   "display_name": "DH",
   "language": "python",
   "name": "dh"
  },
  "language_info": {
   "codemirror_mode": {
    "name": "ipython",
    "version": 3
   },
   "file_extension": ".py",
   "mimetype": "text/x-python",
   "name": "python",
   "nbconvert_exporter": "python",
   "pygments_lexer": "ipython3",
   "version": "3.8.8"
  }
 },
 "nbformat": 4,
 "nbformat_minor": 5
}
