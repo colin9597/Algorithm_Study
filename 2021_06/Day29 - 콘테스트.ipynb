{
 "cells": [
  {
   "cell_type": "markdown",
   "id": "898657ac",
   "metadata": {},
   "source": [
    "# 콘테스트\n",
    "- 링크 https://www.acmicpc.net/problem/5576"
   ]
  },
  {
   "cell_type": "markdown",
   "id": "d464df81",
   "metadata": {},
   "source": [
    "### 1. 혼자 풀이"
   ]
  },
  {
   "cell_type": "code",
   "execution_count": 1,
   "id": "654fe9d1",
   "metadata": {},
   "outputs": [
    {
     "name": "stdout",
     "output_type": "stream",
     "text": [
      "23\n",
      "23\n",
      "20\n",
      "15\n",
      "15\n",
      "14\n",
      "13\n",
      "9\n",
      "7\n",
      "6\n",
      "25\n",
      "19\n",
      "17\n",
      "17\n",
      "16\n",
      "13\n",
      "12\n",
      "11\n",
      "9\n",
      "5\n",
      "66 61\n"
     ]
    }
   ],
   "source": [
    "# W 대학과 K 대학 참가자들의 점수를 담을 리스트\n",
    "W = []\n",
    "K = []\n",
    "\n",
    "# W 대학 참가자 점수 입력\n",
    "for _ in range(10):\n",
    "    score = int(input())\n",
    "    W.append(score)\n",
    "# W 대학 참가자 점수 오름차순 정렬\n",
    "W = sorted(W)\n",
    "\n",
    "# K 대학 참가자 점수 입력\n",
    "for _ in range(10):\n",
    "    score = int(input())\n",
    "    K.append(score)\n",
    "# K 대학 참가자 점수 오름차순 정렬\n",
    "K = sorted(K)\n",
    "\n",
    "# 각 대학의 상위 3명의 점수 합계\n",
    "W_score = sum(W[-3:])\n",
    "K_score = sum(K[-3:])\n",
    "\n",
    "# 각 대학의 점수 출력\n",
    "print(W_score, K_score)"
   ]
  },
  {
   "cell_type": "markdown",
   "id": "34b9929b",
   "metadata": {},
   "source": [
    "### 2. 구글링"
   ]
  },
  {
   "cell_type": "code",
   "execution_count": 2,
   "id": "487e56ef",
   "metadata": {},
   "outputs": [
    {
     "name": "stdout",
     "output_type": "stream",
     "text": [
      "23\n",
      "23\n",
      "20\n",
      "15\n",
      "15\n",
      "14\n",
      "13\n",
      "9\n",
      "7\n",
      "6\n",
      "25\n",
      "19\n",
      "17\n",
      "17\n",
      "16\n",
      "13\n",
      "12\n",
      "11\n",
      "9\n",
      "5\n",
      "66 61\n"
     ]
    }
   ],
   "source": [
    "W = sorted([int(input()) for _ in range(10)])[7:]\n",
    "K = sorted([int(input()) for _ in range(10)])[7:]\n",
    "print(sum(W), sum(K))"
   ]
  },
  {
   "cell_type": "markdown",
   "id": "056f02eb",
   "metadata": {},
   "source": [
    "> 다음과 같이 'list comprehension' 방법으로 더욱 간단하게 표현 가능"
   ]
  }
 ],
 "metadata": {
  "kernelspec": {
   "display_name": "DH",
   "language": "python",
   "name": "dh"
  },
  "language_info": {
   "codemirror_mode": {
    "name": "ipython",
    "version": 3
   },
   "file_extension": ".py",
   "mimetype": "text/x-python",
   "name": "python",
   "nbconvert_exporter": "python",
   "pygments_lexer": "ipython3",
   "version": "3.8.10"
  }
 },
 "nbformat": 4,
 "nbformat_minor": 5
}
