{
 "cells": [
  {
   "cell_type": "markdown",
   "id": "654f220e",
   "metadata": {},
   "source": [
    "# 방 번호\n",
    "- 링크 https://www.acmicpc.net/problem/1475"
   ]
  },
  {
   "cell_type": "code",
   "execution_count": 1,
   "id": "b9d76f42",
   "metadata": {},
   "outputs": [
    {
     "name": "stdout",
     "output_type": "stream",
     "text": [
      "9999\n",
      "2\n"
     ]
    }
   ],
   "source": [
    "# 방번호\n",
    "num = input()\n",
    "\n",
    "# 방번호의 숫자별 빈도수(각 숫자별 필요한 세트의 수)를 입력할 딕셔너리 생성\n",
    "# 단, '6'과 '9'는 서로 뒤집어서 이용할 수 있으므로 초기값을 설정해놓는다.\n",
    "num_dict = {'6':0, '9':0}\n",
    "for i in set(num):\n",
    "    num_dict[i] = num.count(i)\n",
    "\n",
    "# 방번호에서 '6'과 '9'의 빈도수 합\n",
    "num_69 = num_dict[\"6\"] + num_dict[\"9\"]\n",
    "# 방번호에서 '6'과 '9'를 붙이기 위해 필요한 세트의 수 계산\n",
    "num_dict[\"69\"] = (num_69 // 2) + (num_69 % 2)\n",
    "# 위에서 구한 '69'의 세트 수를 사용할 것이기 때문에 '6', '9'의 수는 0으로 리턴\n",
    "num_dict[\"6\"], num_dict[\"9\"] = 0, 0\n",
    "\n",
    "# 가장 큰 빈도수(필요한 세트의 수) 반환\n",
    "set_num = max(num_dict.items(), key=lambda x: x[1])[1]\n",
    "print(set_num)"
   ]
  }
 ],
 "metadata": {
  "kernelspec": {
   "display_name": "DH",
   "language": "python",
   "name": "dh"
  },
  "language_info": {
   "codemirror_mode": {
    "name": "ipython",
    "version": 3
   },
   "file_extension": ".py",
   "mimetype": "text/x-python",
   "name": "python",
   "nbconvert_exporter": "python",
   "pygments_lexer": "ipython3",
   "version": "3.8.10"
  }
 },
 "nbformat": 4,
 "nbformat_minor": 5
}
