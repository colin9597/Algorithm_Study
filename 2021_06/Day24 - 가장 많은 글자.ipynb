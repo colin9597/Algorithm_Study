{
 "cells": [
  {
   "cell_type": "markdown",
   "id": "bc80edac",
   "metadata": {},
   "source": [
    "# 가장 많은 글자\n",
    "- 링크 https://www.acmicpc.net/problem/1371"
   ]
  },
  {
   "cell_type": "markdown",
   "id": "b058f72e",
   "metadata": {},
   "source": [
    "## 1안 - BoW 방법 이용"
   ]
  },
  {
   "cell_type": "code",
   "execution_count": 1,
   "id": "9a4a9114",
   "metadata": {},
   "outputs": [
    {
     "name": "stdout",
     "output_type": "stream",
     "text": [
      "english is a west germanic language originating in england and is the first language for most people in the united kingdom the united states canada australia new zealand ireland and the anglophone caribbean it is used extensively as a second language and as an official language throughout the world especially in common wealth countries and in many international organizations\n",
      "a"
     ]
    }
   ],
   "source": [
    "# 문장을 입력받아 공백과 엔터를 지움.\n",
    "sentence = input()\n",
    "sentence = sentence.replace(' ', '').replace('\\n', '')\n",
    "\n",
    "# BoW 방법 사용\n",
    "alpha2index = {}\n",
    "bow = []\n",
    "for i in sentence:\n",
    "    if i not in alpha2index:\n",
    "        alpha2index[i] = len(alpha2index)\n",
    "        bow.insert(len(alpha2index)-1, 1)\n",
    "    else :\n",
    "        index = alpha2index.get(i)\n",
    "        bow[index] += 1\n",
    "\n",
    "# 가장 큰 빈도수를 담은 bow 리스트의 인덱스 반환\n",
    "max_index = list(filter(lambda x: bow[x] == max(bow), range(len(bow))))\n",
    "for i in max_index:\n",
    "    print(list(alpha2index.keys())[i], end='')"
   ]
  },
  {
   "cell_type": "markdown",
   "id": "d072c513",
   "metadata": {},
   "source": [
    "> 시간 or 메모리 문제로 원하는 결과는 나오지만 틀린 답으로 처리됨."
   ]
  },
  {
   "cell_type": "markdown",
   "id": "2ac0af7b",
   "metadata": {},
   "source": [
    "## 2안 - 단순 딕셔너리 사용"
   ]
  },
  {
   "cell_type": "code",
   "execution_count": 2,
   "id": "98dab5c1",
   "metadata": {},
   "outputs": [
    {
     "name": "stdout",
     "output_type": "stream",
     "text": [
      "english is a west germanic language originating in england and is the first language for most people in the united kingdom the united states canada australia new zealand ireland and the anglophone caribbean it is used extensively as a second language and as an official language throughout the world especially in common wealth countries and in many international organizations\n",
      "a"
     ]
    }
   ],
   "source": [
    "# import sys\n",
    "# sentence = sys.stdin.read()\n",
    "# 문장을 입력받아 공백과 엔터를 지움.\n",
    "sentence = input()\n",
    "sentence = sentence.replace(' ', '').replace('\\n', '')\n",
    "# 문장에 있는 알파벳 종류 반환(정렬된 집합 반환)\n",
    "sentence_set = sorted(set(sentence))\n",
    "\n",
    "# 알파벳별 빈도수를 담은 딕셔너리\n",
    "alpha = {}\n",
    "for i in sentence_set:\n",
    "    alpha[i] = sentence.count(i)\n",
    "\n",
    "# 최고 빈도수\n",
    "max_cnt = max(alpha.items(), key=lambda x: x[1])[1]\n",
    "\n",
    "# 최고 빈도수를 가진 key값(알파벳) 출력\n",
    "for k, v in alpha.items():\n",
    "    if v == max_cnt:\n",
    "        print(k, end='')"
   ]
  },
  {
   "cell_type": "markdown",
   "id": "7085d96f",
   "metadata": {},
   "source": [
    "> 위 대로 진행하면 1안과 같은 이유로 틀린 답으로 처림됨.  \n",
    "\n",
    "> 그래서 'input()' 대신 '**sys.stdin.read()'**로 문장을 입력받으면 정답으로 처리됨."
   ]
  }
 ],
 "metadata": {
  "kernelspec": {
   "display_name": "DH",
   "language": "python",
   "name": "dh"
  },
  "language_info": {
   "codemirror_mode": {
    "name": "ipython",
    "version": 3
   },
   "file_extension": ".py",
   "mimetype": "text/x-python",
   "name": "python",
   "nbconvert_exporter": "python",
   "pygments_lexer": "ipython3",
   "version": "3.8.10"
  }
 },
 "nbformat": 4,
 "nbformat_minor": 5
}
