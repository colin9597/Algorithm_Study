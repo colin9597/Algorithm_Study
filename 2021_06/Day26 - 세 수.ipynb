{
 "cells": [
  {
   "cell_type": "markdown",
   "id": "37459111",
   "metadata": {},
   "source": [
    "# 세 수\n",
    "- 링크 https://www.acmicpc.net/problem/2985"
   ]
  },
  {
   "cell_type": "code",
   "execution_count": 1,
   "id": "b20c76ab",
   "metadata": {},
   "outputs": [
    {
     "name": "stdout",
     "output_type": "stream",
     "text": [
      "5 3 8\n",
      "5+3=8\n"
     ]
    }
   ],
   "source": [
    "# 세 수를 입력받음.\n",
    "a, b, c = map(int, input().split())\n",
    "\n",
    "# 식이 성립하면 출력\n",
    "if a == b + c:\n",
    "    print(\"{0}={1}+{2}\".format(a, b, c))\n",
    "elif a == b - c:\n",
    "    print(\"{0}={1}-{2}\".format(a, b, c))\n",
    "elif a == b * c:\n",
    "    print(\"{0}={1}*{2}\".format(a, b, c))\n",
    "elif a == b / c:\n",
    "    print(\"{0}={1}/{2}\".format(a, b, c))\n",
    "elif a + b == c:\n",
    "    print(\"{0}+{1}={2}\".format(a, b, c))\n",
    "elif a - b == c:\n",
    "    print(\"{0}-{1}={2}\".format(a, b, c))\n",
    "elif a * b == c:\n",
    "    print(\"{0}*{1}={2}\".format(a, b, c))\n",
    "elif a / b == c:\n",
    "    print(\"{0}/{1}={2}\".format(a, b, c))"
   ]
  }
 ],
 "metadata": {
  "kernelspec": {
   "display_name": "DH",
   "language": "python",
   "name": "dh"
  },
  "language_info": {
   "codemirror_mode": {
    "name": "ipython",
    "version": 3
   },
   "file_extension": ".py",
   "mimetype": "text/x-python",
   "name": "python",
   "nbconvert_exporter": "python",
   "pygments_lexer": "ipython3",
   "version": "3.8.10"
  }
 },
 "nbformat": 4,
 "nbformat_minor": 5
}
