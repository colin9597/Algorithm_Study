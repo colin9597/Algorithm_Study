{
 "cells": [
  {
   "cell_type": "markdown",
   "id": "efa90a09",
   "metadata": {},
   "source": [
    "# 모의고사\n",
    "- 링크 https://programmers.co.kr/learn/courses/30/lessons/42840"
   ]
  },
  {
   "cell_type": "code",
   "execution_count": 1,
   "id": "57ead728",
   "metadata": {},
   "outputs": [
    {
     "data": {
      "text/plain": [
       "[1, 2, 3]"
      ]
     },
     "execution_count": 1,
     "metadata": {},
     "output_type": "execute_result"
    }
   ],
   "source": [
    "answers = [1, 3, 2, 4, 2]  # 정답\n",
    "\n",
    "sol1 = [1, 2, 3, 4, 5]  # 1번 수포자가 찍는 방식\n",
    "sol2 = [2, 1, 2, 3, 2, 4, 2, 5]  # 2번 수포자가 찍는 방식\n",
    "sol3 = [3, 3, 1, 1, 2, 2, 4, 4, 5, 5]  # 3번 수포자가 찍는 방식\n",
    "\n",
    "n = len(answers)\n",
    "sol1 = (sol1*(n//len(sol1) + 1))[:n]  # 1번 수포자의 답안\n",
    "sol2 = (sol2*(n//len(sol2) + 1))[:n]  # 2번 수포자의 답안\n",
    "sol3 = (sol3*(n//len(sol3) + 1))[:n]  # 3번 수포자의 답안\n",
    "\n",
    "score = {1:0, 2:0, 3:0}  # 성적표\n",
    "for i, aw in enumerate(answers):  # 정답을 맞출시 점수 +1\n",
    "    if sol1[i] == aw : score[1] += 1\n",
    "    if sol2[i] == aw : score[2] += 1\n",
    "    if sol3[i] == aw : score[3] += 1\n",
    "\n",
    "dic_max = max(score.values())  # 최고 점수\n",
    "answer = []  # 최고 점수를 받은 사람을 추가\n",
    "for k, v in score.items():\n",
    "    if v == dic_max:\n",
    "        answer.append(k)\n",
    "\n",
    "answer"
   ]
  }
 ],
 "metadata": {
  "kernelspec": {
   "display_name": "DH",
   "language": "python",
   "name": "dh"
  },
  "language_info": {
   "codemirror_mode": {
    "name": "ipython",
    "version": 3
   },
   "file_extension": ".py",
   "mimetype": "text/x-python",
   "name": "python",
   "nbconvert_exporter": "python",
   "pygments_lexer": "ipython3",
   "version": "3.8.10"
  }
 },
 "nbformat": 4,
 "nbformat_minor": 5
}
