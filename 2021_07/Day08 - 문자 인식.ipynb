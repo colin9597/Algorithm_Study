{
 "cells": [
  {
   "cell_type": "markdown",
   "id": "a0786c6d",
   "metadata": {},
   "source": [
    "# 문자 인식\n",
    "- 링크 https://www.acmicpc.net/problem/3448"
   ]
  },
  {
   "cell_type": "code",
   "execution_count": 1,
   "id": "994baa06",
   "metadata": {},
   "outputs": [
    {
     "name": "stdout",
     "output_type": "stream",
     "text": [
      "3\n",
      "Pr#nt ex##tly one##ine for#eac# te#t c#se.\n",
      "\n",
      "Efficiency ratio is 78.6%.\n",
      "--------------------------\n",
      "None.\n",
      "\n",
      "Efficiency ratio is 100%.\n",
      "--------------------------\n",
      "The i#put consists of\n",
      "N test ca#es. The number\n",
      "of th#m (N) is given on\n",
      "the first #ine\n",
      "of the#input#file.\n",
      "\n",
      "Efficiency ratio is 94%.\n",
      "--------------------------\n"
     ]
    }
   ],
   "source": [
    "N = int(input())  # N개의 테스트 케이스\n",
    "for _ in range(N):  # 테스트 N번 반복\n",
    "    test_case = ''\n",
    "    while True:  # 빈 줄이 나올 때까지 문장을 입력받음.\n",
    "        snt = input()\n",
    "        if snt:  # 빈 줄이 아닌 경우\n",
    "            test_case += snt\n",
    "        else :  # 빈 줄인 경우\n",
    "            break\n",
    "    # 인식률 계산\n",
    "    ratio = round(1-(test_case.count(\"#\")/len(test_case)), 3) * 100\n",
    "    if (ratio % 1) == 0:  # 인식률이 정수인 경우\n",
    "        print(\"Efficiency ratio is %.0f%%.\" % ratio)\n",
    "        print(\"--------------------------\")  # 제출시 삭제\n",
    "    else:  # 인식률이 정수가 아닌 경우\n",
    "        print(\"Efficiency ratio is %.1f%%.\" % ratio)\n",
    "        print(\"--------------------------\")  # 제출시 삭제"
   ]
  }
 ],
 "metadata": {
  "kernelspec": {
   "display_name": "DH",
   "language": "python",
   "name": "dh"
  },
  "language_info": {
   "codemirror_mode": {
    "name": "ipython",
    "version": 3
   },
   "file_extension": ".py",
   "mimetype": "text/x-python",
   "name": "python",
   "nbconvert_exporter": "python",
   "pygments_lexer": "ipython3",
   "version": "3.8.10"
  }
 },
 "nbformat": 4,
 "nbformat_minor": 5
}
