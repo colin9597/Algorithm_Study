{
 "cells": [
  {
   "cell_type": "markdown",
   "id": "9f08f71f",
   "metadata": {},
   "source": [
    "# 소인수분해\n",
    "- 링크 https://www.acmicpc.net/problem/11653"
   ]
  },
  {
   "cell_type": "markdown",
   "id": "472a938a",
   "metadata": {},
   "source": [
    "## 1. 혼자 풀이"
   ]
  },
  {
   "cell_type": "code",
   "execution_count": 1,
   "id": "65de6a3c",
   "metadata": {},
   "outputs": [
    {
     "name": "stdout",
     "output_type": "stream",
     "text": [
      "72\n",
      "2\n",
      "2\n",
      "2\n",
      "3\n",
      "3\n"
     ]
    }
   ],
   "source": [
    "import math\n",
    "# 소수 판별 함수\n",
    "def isprime(n):\n",
    "    if n<2:\n",
    "        return False\n",
    "    for i in range(2, int(math.sqrt(n)) + 1):\n",
    "        if n % i == 0:\n",
    "            return False\n",
    "    return True \n",
    "\n",
    "N = int(input())  # 정수 N 입력\n",
    "is_prime = []  # N 제곱근까지의 소인수를 담음.\n",
    "for i in range(2, int(math.sqrt(N))+1):\n",
    "    if isprime(i):\n",
    "        is_prime.append(i)\n",
    "\n",
    "for n in is_prime:  # N 제곱근까지의 소인수로 소인수분해\n",
    "    while N != 1:\n",
    "        if N % n == 0:\n",
    "            N /= n\n",
    "            print(n)\n",
    "        else:\n",
    "            break\n",
    "\n",
    "if N != 1:  # 마지막 소인수 값 출력 \n",
    "    print(int(N))"
   ]
  },
  {
   "cell_type": "markdown",
   "id": "54e1b3c4",
   "metadata": {},
   "source": [
    "> 테스트시, 성공은 했으나 더 간단한 방법이 없을까하여 구글링함."
   ]
  },
  {
   "cell_type": "markdown",
   "id": "fc7b4d65",
   "metadata": {},
   "source": [
    "## 2. 구글링"
   ]
  },
  {
   "cell_type": "code",
   "execution_count": 2,
   "id": "dd17b530",
   "metadata": {},
   "outputs": [
    {
     "name": "stdout",
     "output_type": "stream",
     "text": [
      "72\n",
      "2\n",
      "2\n",
      "2\n",
      "3\n",
      "3\n"
     ]
    }
   ],
   "source": [
    "N = int(input())  # 정수 N 입력\n",
    "\n",
    "temp = 2  # 소수 2부터\n",
    "while not N == 1:\n",
    "    if N % temp == 0:  # 나누어지면 출력(소인수)\n",
    "        print(temp)\n",
    "        N = N // temp\n",
    "    else :\n",
    "        temp += 1  # 안 나누어지면 +1 "
   ]
  },
  {
   "cell_type": "markdown",
   "id": "944bd887",
   "metadata": {},
   "source": [
    "> 소인수를 찾는 과정에서 전체 수에 대해 소수 판별 과정을 빼버림"
   ]
  }
 ],
 "metadata": {
  "kernelspec": {
   "display_name": "DH",
   "language": "python",
   "name": "dh"
  },
  "language_info": {
   "codemirror_mode": {
    "name": "ipython",
    "version": 3
   },
   "file_extension": ".py",
   "mimetype": "text/x-python",
   "name": "python",
   "nbconvert_exporter": "python",
   "pygments_lexer": "ipython3",
   "version": "3.8.10"
  }
 },
 "nbformat": 4,
 "nbformat_minor": 5
}
