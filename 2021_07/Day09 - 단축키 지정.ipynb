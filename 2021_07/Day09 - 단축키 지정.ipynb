{
 "cells": [
  {
   "cell_type": "markdown",
   "id": "e97d42e2",
   "metadata": {},
   "source": [
    "# 단축키 지정\n",
    "- 링크 https://www.acmicpc.net/problem/1283"
   ]
  },
  {
   "cell_type": "code",
   "execution_count": 1,
   "id": "6800e531",
   "metadata": {},
   "outputs": [
    {
     "name": "stdout",
     "output_type": "stream",
     "text": [
      "8\n",
      "New window\n",
      "[N]ew window\n",
      "New file\n",
      "New [f]ile\n",
      "Copy\n",
      "[C]opy\n",
      "Undo\n",
      "[U]ndo\n",
      "Format\n",
      "F[o]rmat\n",
      "Font\n",
      "Fon[t]\n",
      "Cut\n",
      "Cut\n",
      "Paste\n",
      "[P]aste\n"
     ]
    }
   ],
   "source": [
    "N = int(input())  # 옵션의 개수\n",
    "short = []  # 단축키\n",
    "\n",
    "for _ in range(N):\n",
    "    flag = True  # 조건1 만족여부를 위해\n",
    "    opt = input().split(\" \")  # 입력받은 옵션을 단어별로 split\n",
    "    short.append(\"#\")  # 어떠한 것도 단축키로 지정할 수 없다면, \"#\"으로 결측치 저장(조건3)\n",
    "    \n",
    "    # 하나의 옵션에 대해 왼쪽에서부터 오른쪽 순서로 단어의 첫 글자가 이미 단축키로 지정되었는지 확인(조건1)\n",
    "    for n in range(len(opt)):\n",
    "        if opt[n][0].lower() not in short:\n",
    "            short[-1] = opt[n][0].lower()  # 지정되지 않았다면 단축키로 저장(대소문자 구분X, 조건3)\n",
    "            opt[n] = opt[n].replace(opt[n][0], \"[\"+opt[n][0]+\"]\", 1)  # [단축키] 출력\n",
    "            flag = False\n",
    "            break\n",
    "            \n",
    "    opt = \" \".join(opt)  # 단어별로 분리된 것을 하나로 join\n",
    "    \n",
    "    # 모든 단어의 첫 글자가 이미 단축키로 지정되어있다면 왼쪽부터 차례대로 단축키로 지정되었는지 확인(조건2)\n",
    "    for i in opt[1:]:\n",
    "        if flag and i.isalpha() and i.lower() not in short:\n",
    "            short[-1] = i.lower()  # 지정되지 않았다면 단축키로 저장(대소문자 구분X, 조건3)\n",
    "            opt = opt.replace(i, \"[\"+i+\"]\", 1)  # [단축키] 출력\n",
    "            break\n",
    "    \n",
    "    print(opt)"
   ]
  }
 ],
 "metadata": {
  "kernelspec": {
   "display_name": "DH",
   "language": "python",
   "name": "dh"
  },
  "language_info": {
   "codemirror_mode": {
    "name": "ipython",
    "version": 3
   },
   "file_extension": ".py",
   "mimetype": "text/x-python",
   "name": "python",
   "nbconvert_exporter": "python",
   "pygments_lexer": "ipython3",
   "version": "3.8.10"
  }
 },
 "nbformat": 4,
 "nbformat_minor": 5
}
