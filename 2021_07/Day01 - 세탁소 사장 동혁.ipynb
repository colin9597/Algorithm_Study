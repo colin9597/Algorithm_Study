{
 "cells": [
  {
   "cell_type": "markdown",
   "id": "f10c8178",
   "metadata": {},
   "source": [
    "# 세탁소 사장 동혁\n",
    "- 링크 https://www.acmicpc.net/problem/2720"
   ]
  },
  {
   "cell_type": "code",
   "execution_count": 1,
   "id": "1b1b962d",
   "metadata": {},
   "outputs": [
    {
     "name": "stdout",
     "output_type": "stream",
     "text": [
      "3\n",
      "124\n",
      "4 2 0 4\n",
      "25\n",
      "1 0 0 0\n",
      "194\n",
      "7 1 1 4\n"
     ]
    }
   ],
   "source": [
    "# 테스트 케이스\n",
    "T = int(input())\n",
    "for _ in range(T):\n",
    "    # 거스름돈\n",
    "    C = int(input())\n",
    "    # 쿼터의 개수\n",
    "    Quarter = C // 25\n",
    "    # 다음의 개수\n",
    "    Dime = (C % 25) // 10\n",
    "    # 니켈의 개수\n",
    "    Nickel = ((C % 25) % 10) // 5\n",
    "    # 페니의 개수\n",
    "    Penny = ((C % 25) % 10) % 5\n",
    "    # 필요한 각 동전의 개수 출력\n",
    "    print(Quarter, Dime, Nickel, Penny)"
   ]
  }
 ],
 "metadata": {
  "kernelspec": {
   "display_name": "DH",
   "language": "python",
   "name": "dh"
  },
  "language_info": {
   "codemirror_mode": {
    "name": "ipython",
    "version": 3
   },
   "file_extension": ".py",
   "mimetype": "text/x-python",
   "name": "python",
   "nbconvert_exporter": "python",
   "pygments_lexer": "ipython3",
   "version": "3.8.10"
  }
 },
 "nbformat": 4,
 "nbformat_minor": 5
}
