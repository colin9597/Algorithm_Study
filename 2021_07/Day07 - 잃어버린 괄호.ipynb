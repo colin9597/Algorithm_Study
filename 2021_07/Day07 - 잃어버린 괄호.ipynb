{
 "cells": [
  {
   "cell_type": "markdown",
   "id": "b25dd714",
   "metadata": {},
   "source": [
    "# 잃어버린 괄호\n",
    "- 링크 https://www.acmicpc.net/problem/1541"
   ]
  },
  {
   "cell_type": "code",
   "execution_count": 1,
   "id": "a1f09153",
   "metadata": {},
   "outputs": [
    {
     "name": "stdout",
     "output_type": "stream",
     "text": [
      "55-50+40\n",
      "-35\n"
     ]
    }
   ],
   "source": [
    "# 산술식 입력 -> '-' 기준으로 split하여 리스트 생성\n",
    "arithmetic = list(input().split('-'))\n",
    "\n",
    "# '-'가 나오기 전의 식의 계산값 *** @\n",
    "result = sum(list(map(int, arithmetic[0].split('+'))))\n",
    "\n",
    "# '-'가 나온 후, 각 괄호 안의 합을 @에서 뺌.\n",
    "for n in arithmetic[1:]:\n",
    "    result -= sum(list(map(int, n.split('+'))))\n",
    "\n",
    "# 결과 출력\n",
    "print(result)"
   ]
  },
  {
   "cell_type": "markdown",
   "id": "610c799a",
   "metadata": {},
   "source": [
    "> 최소값을 가지기 위해 '-' 뒤의 '+'를 괄호를 적절히 쳐서 모두 '-'로 변경"
   ]
  }
 ],
 "metadata": {
  "kernelspec": {
   "display_name": "DH",
   "language": "python",
   "name": "dh"
  },
  "language_info": {
   "codemirror_mode": {
    "name": "ipython",
    "version": 3
   },
   "file_extension": ".py",
   "mimetype": "text/x-python",
   "name": "python",
   "nbconvert_exporter": "python",
   "pygments_lexer": "ipython3",
   "version": "3.8.10"
  }
 },
 "nbformat": 4,
 "nbformat_minor": 5
}
