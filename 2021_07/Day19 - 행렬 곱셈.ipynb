{
 "cells": [
  {
   "cell_type": "markdown",
   "id": "cfc6613b",
   "metadata": {},
   "source": [
    "# 행렬 곱셈\n",
    "- 링크 https://www.acmicpc.net/problem/2740"
   ]
  },
  {
   "cell_type": "code",
   "execution_count": 1,
   "id": "2fbea7f7",
   "metadata": {},
   "outputs": [
    {
     "name": "stdout",
     "output_type": "stream",
     "text": [
      "3 2\n",
      "1 2\n",
      "3 4\n",
      "5 6\n",
      "2 3\n",
      "-1 -2 0\n",
      "0 0 3\n",
      "-1 -2 6 \n",
      "-3 -6 12 \n",
      "-5 -10 18 \n"
     ]
    }
   ],
   "source": [
    "# A 행렬 입력\n",
    "N, M = map(int, input().split())\n",
    "A = []\n",
    "for _ in range(N):\n",
    "    A.append(list(map(int, input().split())))\n",
    "\n",
    "# B 행렬 입력\n",
    "M, K = map(int, input().split())\n",
    "B = []\n",
    "for _ in range(M):\n",
    "    B.append(list(map(int, input().split())))\n",
    "\n",
    "# AB 행렬곱 초기화\n",
    "AxB = [[] for _ in range(N)]\n",
    "\n",
    "# AB 각 원소 행렬 곱\n",
    "for r in range(N):\n",
    "    for c in range(K):\n",
    "        n = 0\n",
    "        for m in range(M):\n",
    "            n += A[r][m] * B[m][c]\n",
    "        AxB[r].append(n)\n",
    "\n",
    "# 결과 출력\n",
    "for row in AxB:\n",
    "    for col in row:\n",
    "        print(col, end=' ')\n",
    "    print()"
   ]
  }
 ],
 "metadata": {
  "kernelspec": {
   "display_name": "DH",
   "language": "python",
   "name": "dh"
  },
  "language_info": {
   "codemirror_mode": {
    "name": "ipython",
    "version": 3
   },
   "file_extension": ".py",
   "mimetype": "text/x-python",
   "name": "python",
   "nbconvert_exporter": "python",
   "pygments_lexer": "ipython3",
   "version": "3.8.10"
  }
 },
 "nbformat": 4,
 "nbformat_minor": 5
}
