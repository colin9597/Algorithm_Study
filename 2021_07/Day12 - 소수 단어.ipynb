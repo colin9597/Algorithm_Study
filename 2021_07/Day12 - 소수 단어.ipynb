{
 "cells": [
  {
   "cell_type": "markdown",
   "id": "5821bc73",
   "metadata": {},
   "source": [
    "# 소수 단어\n",
    "- 링크 https://www.acmicpc.net/problem/2153"
   ]
  },
  {
   "cell_type": "code",
   "execution_count": 1,
   "id": "787f6906",
   "metadata": {},
   "outputs": [
    {
     "name": "stdout",
     "output_type": "stream",
     "text": [
      "UFRN\n",
      "It is a prime word.\n"
     ]
    }
   ],
   "source": [
    "# 소수 판별 함수\n",
    "def isprime(n):\n",
    "    if n<2:  # 문제에서 편의상 1도 소수로 봄.\n",
    "        return True\n",
    "    for i in range(2, n):\n",
    "        if n % i == 0:\n",
    "            return False\n",
    "    return True    \n",
    "\n",
    "word = input()  # 단어 입력\n",
    "total = 0  \n",
    "for w in word:\n",
    "    if ord(w) >= 97:  # a ~ z\n",
    "        total += (ord(w) - 96)\n",
    "    elif ord(w) >= 65:  # A ~ Z\n",
    "        total += (ord(w) - 38)\n",
    "\n",
    "if isprime(total):\n",
    "    print(\"It is a prime word.\")\n",
    "else:\n",
    "    print(\"It is not a prime word.\")"
   ]
  }
 ],
 "metadata": {
  "kernelspec": {
   "display_name": "DH",
   "language": "python",
   "name": "dh"
  },
  "language_info": {
   "codemirror_mode": {
    "name": "ipython",
    "version": 3
   },
   "file_extension": ".py",
   "mimetype": "text/x-python",
   "name": "python",
   "nbconvert_exporter": "python",
   "pygments_lexer": "ipython3",
   "version": "3.8.10"
  }
 },
 "nbformat": 4,
 "nbformat_minor": 5
}
