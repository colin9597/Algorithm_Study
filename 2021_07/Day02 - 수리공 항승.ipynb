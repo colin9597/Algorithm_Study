{
 "cells": [
  {
   "cell_type": "markdown",
   "id": "cc39e6f5",
   "metadata": {},
   "source": [
    "# 수리공 항승\n",
    "- 링크 https://www.acmicpc.net/problem/1449"
   ]
  },
  {
   "cell_type": "code",
   "execution_count": 1,
   "id": "b6de9d6e",
   "metadata": {},
   "outputs": [
    {
     "name": "stdout",
     "output_type": "stream",
     "text": [
      "4 2\n",
      "1 2 100 101\n",
      "2\n"
     ]
    }
   ],
   "source": [
    "# 물이 새는 곳의 개수 N, 테이프의 길이 L\n",
    "N, L = map(int, input().split())\n",
    "\n",
    "# 물이 새는 곳의 위치\n",
    "leak = list(map(int, input().split()))\n",
    "\n",
    "# 파이프 초기화\n",
    "pipe = [0]*1001\n",
    "\n",
    "# 파이프에서 물이 새는 곳의 값을 1로 변경\n",
    "for i in leak:\n",
    "    pipe[i] = 1\n",
    "\n",
    "# 테이프 개수 초기화    \n",
    "cnt = 0\n",
    "\n",
    "# \n",
    "while True:\n",
    "    # 파이프에 물이 새는 곳이 있다면\n",
    "    if 1 in pipe:\n",
    "        # 물이 새는 곳(가장 작은 인덱스)\n",
    "        idx = pipe.index(1)\n",
    "        # 물이 새는 곳부터 테이프로 수리를 하고, 뒤에 남은 파이프만 반환\n",
    "        if L < len(pipe):\n",
    "            pipe = pipe[idx+L:]\n",
    "            cnt += 1\n",
    "        else:\n",
    "            cnt += 1\n",
    "            break\n",
    "    # 물 새는 곳이 더이상 없다면 break\n",
    "    else:\n",
    "        break\n",
    "\n",
    "print(cnt)"
   ]
  }
 ],
 "metadata": {
  "kernelspec": {
   "display_name": "DH",
   "language": "python",
   "name": "dh"
  },
  "language_info": {
   "codemirror_mode": {
    "name": "ipython",
    "version": 3
   },
   "file_extension": ".py",
   "mimetype": "text/x-python",
   "name": "python",
   "nbconvert_exporter": "python",
   "pygments_lexer": "ipython3",
   "version": "3.8.10"
  }
 },
 "nbformat": 4,
 "nbformat_minor": 5
}
