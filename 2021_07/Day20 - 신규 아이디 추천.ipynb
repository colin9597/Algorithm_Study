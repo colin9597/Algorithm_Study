{
 "cells": [
  {
   "cell_type": "markdown",
   "id": "d749f274",
   "metadata": {},
   "source": [
    "# 신규 아이디 추천\n",
    "- 링크 https://programmers.co.kr/learn/courses/30/lessons/72410"
   ]
  },
  {
   "cell_type": "code",
   "execution_count": 1,
   "id": "90fd0759",
   "metadata": {},
   "outputs": [],
   "source": [
    "# 4단계 : 마침표(.)가 처음이나 끝에 위치한다면 제거\n",
    "def search(sentence):\n",
    "    if sentence[0] == \".\":\n",
    "        sentence = sentence[1:]\n",
    "    if len(sentence) > 1 and sentence[-1] == \".\" :\n",
    "        sentence = sentence[:-1]\n",
    "    return sentence"
   ]
  },
  {
   "cell_type": "code",
   "execution_count": 2,
   "id": "9cf090f7",
   "metadata": {},
   "outputs": [],
   "source": [
    "# 5단계 : 빈 문자열이라면, \"a\"를 대입\n",
    "def IsNA(sentence):\n",
    "    if not sentence:\n",
    "        sentence = 'a'\n",
    "    return sentence"
   ]
  },
  {
   "cell_type": "code",
   "execution_count": 3,
   "id": "1d8d8bb0",
   "metadata": {},
   "outputs": [],
   "source": [
    "# 6단계 : 길이가 16자 이상이면, 첫 15개의 문자를 제외한 나머지 문자들을 모두 제거\n",
    "# 제거 후 마침표(.)가 끝에 위치한다면 끝에 위치한 마침표(.) 문자를 제거\n",
    "def IsLong(sentence):\n",
    "    if len(sentence) >= 16:\n",
    "        sentence = sentence[:15]\n",
    "    sentence = search(sentence)\n",
    "    return sentence"
   ]
  },
  {
   "cell_type": "code",
   "execution_count": 4,
   "id": "379d9d8a",
   "metadata": {},
   "outputs": [],
   "source": [
    "# 길이가 2자 이하라면, 마지막 문자를 new_id의 길이가 3이 될 때까지 반복\n",
    "def IsShort(sentence):\n",
    "    while len(sentence) <= 2:\n",
    "        sentence += sentence[-1]\n",
    "    return sentence"
   ]
  },
  {
   "cell_type": "code",
   "execution_count": 5,
   "id": "ff90102e",
   "metadata": {},
   "outputs": [
    {
     "name": "stdout",
     "output_type": "stream",
     "text": [
      "...!@BaT#*..y.abcdefghijklm\n",
      "1 ...!@bat#*..y.abcdefghijklm\n",
      "2 ...bat..y.abcdefghijklm\n",
      "3 .bat.y.abcdefghijklm\n",
      "4 bat.y.abcdefghijklm\n",
      "5 bat.y.abcdefghijklm\n",
      "6 bat.y.abcdefghi\n",
      "7 bat.y.abcdefghi\n",
      "\n",
      "bat.y.abcdefghi\n"
     ]
    }
   ],
   "source": [
    "import re\n",
    "\n",
    "new_id = input()\n",
    "new_id = new_id.lower()  # 1단계 : 대문자 -> 소문자\n",
    "print(1, new_id)\n",
    "new_id = re.sub(\"[^a-z0-9-_.]\",\"\", new_id)  # 2단계 : 특정 문자 제외 모든 문자 제거\n",
    "print(2, new_id)\n",
    "new_id = re.sub(\"\\.{2,}\",\".\", new_id)  # 3단계 : 마침표(.)가 2번 이상 연속된 부분을 하나의 마침표(.)로 치환\n",
    "print(3, new_id)\n",
    "new_id = search(new_id)  # 4단계\n",
    "print(4, new_id)\n",
    "new_id = IsNA(new_id)  # 5단계\n",
    "print(5, new_id)\n",
    "new_id = IsLong(new_id)  # 6단계\n",
    "print(6, new_id)\n",
    "new_id = IsShort(new_id)  # 7단계\n",
    "print(7, new_id)\n",
    "\n",
    "print()\n",
    "print(new_id)"
   ]
  },
  {
   "cell_type": "code",
   "execution_count": null,
   "id": "2fbe27c7",
   "metadata": {},
   "outputs": [],
   "source": []
  }
 ],
 "metadata": {
  "kernelspec": {
   "display_name": "DH",
   "language": "python",
   "name": "dh"
  },
  "language_info": {
   "codemirror_mode": {
    "name": "ipython",
    "version": 3
   },
   "file_extension": ".py",
   "mimetype": "text/x-python",
   "name": "python",
   "nbconvert_exporter": "python",
   "pygments_lexer": "ipython3",
   "version": "3.8.10"
  }
 },
 "nbformat": 4,
 "nbformat_minor": 5
}
