{
 "cells": [
  {
   "cell_type": "markdown",
   "id": "2f967140",
   "metadata": {},
   "source": [
    "# 지뢰 찾기\n",
    "- 링크 https://www.acmicpc.net/problem/1996"
   ]
  },
  {
   "cell_type": "markdown",
   "id": "efa8d606",
   "metadata": {},
   "source": [
    "# 1안 (실패)"
   ]
  },
  {
   "cell_type": "code",
   "execution_count": 1,
   "id": "4806a715",
   "metadata": {},
   "outputs": [
    {
     "name": "stdout",
     "output_type": "stream",
     "text": [
      "5\n",
      "1....\n",
      "..3..\n",
      ".....\n",
      ".4...\n",
      "...9.\n",
      "*4330\n",
      "14*30\n",
      "47730\n",
      "4*M99\n",
      "44M*9\n"
     ]
    }
   ],
   "source": [
    "N = int(input())  # 지뢰 map의 행, 열 값 \n",
    "\n",
    "map_info = []  # 지뢰 정보 입력 (숫자 또는 '.')\n",
    "for i in range(N):\n",
    "    info = list(input())\n",
    "    map_info.append(info)\n",
    "\n",
    "import copy\n",
    "mine = []\n",
    "num_map = copy.deepcopy(map_info)\n",
    "for r in range(len(num_map)):  # 지뢰 정보 수정 ('.' => 0)\n",
    "    for c in range(len(num_map[r])):\n",
    "        if num_map[r][c].isnumeric():\n",
    "            num_map[r][c] = int(num_map[r][c])\n",
    "            mine.append((r, c))  # 지뢰가 있는 위치 정보 저장\n",
    "        else :\n",
    "            num_map[r][c] = 0\n",
    "            \n",
    "mine_map = copy.deepcopy(num_map)\n",
    "\n",
    "for r in range(len(map_info)):  # 주변의 지뢰 개수 정보 저장\n",
    "    for c in range(len(map_info[r])):\n",
    "        if r > 0 and c > 0 and map_info[r][c] == '.':\n",
    "            mine_map[r][c] += num_map[r-1][c-1]\n",
    "            if mine_map[r][c] >= 10: mine_map[r][c] = 'M'\n",
    "        if r > 0 and map_info[r][c] == '.':\n",
    "            mine_map[r][c] += num_map[r-1][c]\n",
    "            if mine_map[r][c] >= 10: mine_map[r][c] = 'M'\n",
    "        if r > 0 and c < (N-1) and map_info[r][c] == '.':\n",
    "            mine_map[r][c] += num_map[r-1][c+1]\n",
    "            if mine_map[r][c] >= 10: mine_map[r][c] = 'M'\n",
    "        if c > 0 and map_info[r][c] == '.':\n",
    "            mine_map[r][c] += num_map[r][c-1]\n",
    "            if mine_map[r][c] >= 10: mine_map[r][c] = 'M'\n",
    "        if c < (N-1) and map_info[r][c] == '.':\n",
    "            mine_map[r][c] += num_map[r][c+1]\n",
    "            if mine_map[r][c] >= 10: mine_map[r][c] = 'M'\n",
    "        if r < (N-1) and c > 0 and map_info[r][c] == '.':\n",
    "            mine_map[r][c] += num_map[r+1][c-1]\n",
    "            if mine_map[r][c] >= 10: mine_map[r][c] = 'M'\n",
    "        if r <(N-1) and map_info[r][c] == '.':\n",
    "            mine_map[r][c] += num_map[r+1][c]\n",
    "            if mine_map[r][c] >= 10: mine_map[r][c] = 'M'\n",
    "        if r < (N-1) and c < (N-1) and map_info[r][c] == '.':\n",
    "            mine_map[r][c] += num_map[r+1][c+1]\n",
    "            if mine_map[r][c] >= 10: mine_map[r][c] = 'M'\n",
    "\n",
    "for t in mine:  # 지뢰가 있는 자리 '*'로 변경\n",
    "    mine_map[t[0]][t[1]] = \"*\"\n",
    "\n",
    "for i in mine_map:  # 결과 출력\n",
    "    for j in i:\n",
    "        print(str(j), end='')\n",
    "    print()"
   ]
  },
  {
   "cell_type": "markdown",
   "id": "37e5bdfd",
   "metadata": {},
   "source": [
    "> 예제는 성공했으나, 제출 시 런타임 에러(TypeError)!"
   ]
  },
  {
   "cell_type": "markdown",
   "id": "e7804615",
   "metadata": {},
   "source": [
    "# 2안 (실패)"
   ]
  },
  {
   "cell_type": "code",
   "execution_count": 2,
   "id": "4ab920e0",
   "metadata": {},
   "outputs": [
    {
     "name": "stdout",
     "output_type": "stream",
     "text": [
      "5\n",
      "1....\n",
      "..3..\n",
      ".....\n",
      ".4...\n",
      "...9.\n",
      "*4330\n",
      "14*30\n",
      "47730\n",
      "4*M99\n",
      "44M*9\n"
     ]
    }
   ],
   "source": [
    "def cal_mine(r, c):  # 주변 지뢰 총 개수를 구해주는 함수\n",
    "    total = 0\n",
    "    if (r-1, c-1) in mine: total += num_map[r-1][c-1]\n",
    "    if (r-1, c) in mine: total += num_map[r-1][c]\n",
    "    if (r-1, c+1) in mine: total += num_map[r-1][c+1]\n",
    "    if (r, c-1) in mine: total += num_map[r][c-1]\n",
    "    if (r, c+1) in mine: total += num_map[r][c+1]\n",
    "    if (r+1, c-1) in mine: total += num_map[r+1][c-1]\n",
    "    if (r+1, c) in mine: total += num_map[r+1][c]\n",
    "    if (r+1, c+1) in mine: total += num_map[r+1][c+1]\n",
    "    if total > 10 : total = 'M'\n",
    "    return total\n",
    "\n",
    "N = int(input())  # 지뢰 map의 행, 열 값 \n",
    "\n",
    "map_info = []  # 지뢰 정보 입력 (숫자 또는 '.')\n",
    "for i in range(N):\n",
    "    info = list(input())\n",
    "    map_info.append(info)\n",
    "\n",
    "mine = []\n",
    "num_map = [[0]*N for _ in range(N)]\n",
    "for r in range(len(map_info)):  # 지뢰 정보 수정 ('.' => 0)\n",
    "    for c in range(len(map_info[r])):\n",
    "        if map_info[r][c].isnumeric():\n",
    "            num_map[r][c] = int(map_info[r][c])\n",
    "            mine.append((r, c))  # 지뢰가 있는 위치 정보 저장\n",
    "        else :\n",
    "            num_map[r][c] = 0\n",
    "            \n",
    "for r in range(len(map_info)):\n",
    "    for c in range(len(map_info[r])):\n",
    "        if map_info[r][c].isnumeric(): map_info[r][c] = '*'  # 지뢰가 있는 자리 '*'로 변경\n",
    "        else : map_info[r][c] = cal_mine(r, c)  # 주변 지뢰 총 개수를 구함.\n",
    "\n",
    "for i in map_info:  # 결과 출력\n",
    "    for j in i:\n",
    "        print(str(j), end='')\n",
    "    print()"
   ]
  },
  {
   "cell_type": "markdown",
   "id": "cdc25e7b",
   "metadata": {},
   "source": [
    "> 예제는 성공했으나, 제출 시 시간 초과!"
   ]
  },
  {
   "cell_type": "markdown",
   "id": "bfb5d367",
   "metadata": {},
   "source": [
    "# 3안 (성공)"
   ]
  },
  {
   "cell_type": "code",
   "execution_count": 3,
   "id": "8d983dfe",
   "metadata": {},
   "outputs": [
    {
     "name": "stdout",
     "output_type": "stream",
     "text": [
      "5\n",
      "1....\n",
      "..3..\n",
      ".....\n",
      ".4...\n",
      "...9.\n",
      "*4330\n",
      "14*30\n",
      "47730\n",
      "4*M99\n",
      "44M*9\n"
     ]
    }
   ],
   "source": [
    "def sum_mine(N, mine, matrix):  # 주변 지뢰 총 개수를 구해주는 함수\n",
    "    dr = [-1, -1, -1, 0, 0, 1, 1, 1]\n",
    "    dc = [-1, 0, 1, -1, 1, -1, 0, 1]\n",
    "    for i in range(8):\n",
    "        for r, c, n in mine:\n",
    "            nr = r + dr[i]\n",
    "            nc = c + dc[i]\n",
    "            if nr >= 0 and nr < N and nc >= 0 and nc < N and matrix[nr][nc] != '*':\n",
    "                matrix[nr][nc] += n\n",
    "    return matrix\n",
    "\n",
    "N = int(input())\n",
    "mine_map=[[] for _ in range(N)]\n",
    "mine = []\n",
    "for r in range(N):  # 지뢰 map 정보 수정 ('.' => 0, 지뢰 => '*')\n",
    "    info = list(input())\n",
    "    for c in range(N):\n",
    "        if info[c] == '.':\n",
    "            mine_map[r].append(0)\n",
    "        else :\n",
    "            mine_map[r].append(\"*\")\n",
    "            mine.append((r, c, int(info[c]))) # 지뢰가 있는 위치 정보, 지뢰 수 저장\n",
    "            \n",
    "mine_map = sum_mine(N, mine, mine_map) # 주변 지뢰 총 개수 계산\n",
    "\n",
    "\n",
    "for i in mine_map:  # 결과 출력(자뢰 총 개수가 10보다 클 시 'M' 출력)\n",
    "    for j in i:\n",
    "        if j != \"*\" and j>=10: print(\"M\", end='')\n",
    "        else: print(str(j), end='')\n",
    "    print()"
   ]
  },
  {
   "cell_type": "markdown",
   "id": "1d42a51e",
   "metadata": {},
   "source": [
    "> 성공!"
   ]
  },
  {
   "cell_type": "markdown",
   "id": "14f141ed",
   "metadata": {},
   "source": [
    "> 1안과 2안과 달리, 지뢰가 없는 곳에서 주변의 지뢰 개수의 총합을 구한 것이 아니라 지뢰가 있는 곳을 기준으로 주변에 지뢰의 개수만큼 더해서 감. "
   ]
  }
 ],
 "metadata": {
  "kernelspec": {
   "display_name": "DH",
   "language": "python",
   "name": "dh"
  },
  "language_info": {
   "codemirror_mode": {
    "name": "ipython",
    "version": 3
   },
   "file_extension": ".py",
   "mimetype": "text/x-python",
   "name": "python",
   "nbconvert_exporter": "python",
   "pygments_lexer": "ipython3",
   "version": "3.8.10"
  }
 },
 "nbformat": 4,
 "nbformat_minor": 5
}
