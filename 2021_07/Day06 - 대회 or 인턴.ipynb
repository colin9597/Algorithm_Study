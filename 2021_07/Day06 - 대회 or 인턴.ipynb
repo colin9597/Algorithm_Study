{
 "cells": [
  {
   "cell_type": "markdown",
   "id": "b461d418",
   "metadata": {},
   "source": [
    "# 대회 or 인턴\n",
    "- 링크 https://www.acmicpc.net/problem/2875"
   ]
  },
  {
   "cell_type": "code",
   "execution_count": 1,
   "id": "4567e508",
   "metadata": {},
   "outputs": [
    {
     "name": "stdout",
     "output_type": "stream",
     "text": [
      "6 3 2\n",
      "2\n"
     ]
    }
   ],
   "source": [
    "import math  # 올림함수를 사용하기 위해\n",
    "\n",
    "# 여학생 수, 남학생 수, 인턴쉽 참여 인원 입력\n",
    "N, M, K = map(int, input().split())\n",
    "\n",
    "# 인턴쉽을 고려하지 않고, 만들 수 있는 최대의 팀 수(team_n)\n",
    "n = N // 2\n",
    "if n > M:\n",
    "    team_n = M\n",
    "else:\n",
    "    team_n = n\n",
    "\n",
    "# (인턴쉽 참여 인원) - (팀을 꾸리고 남은 인원)\n",
    "remain_intern = K - N - M + team_n*3 # K - (N-team_n*2) - (M-team_n)\n",
    "\n",
    "# 남은 인턴쉽 인원이 있다면, 몇 팀을 해체\n",
    "if remain_intern > 0:\n",
    "    team_n -= math.ceil(remain_intern/3)\n",
    "\n",
    "# 최종 최대의 팀 수 출력\n",
    "print(team_n)"
   ]
  }
 ],
 "metadata": {
  "kernelspec": {
   "display_name": "DH",
   "language": "python",
   "name": "dh"
  },
  "language_info": {
   "codemirror_mode": {
    "name": "ipython",
    "version": 3
   },
   "file_extension": ".py",
   "mimetype": "text/x-python",
   "name": "python",
   "nbconvert_exporter": "python",
   "pygments_lexer": "ipython3",
   "version": "3.8.10"
  }
 },
 "nbformat": 4,
 "nbformat_minor": 5
}
