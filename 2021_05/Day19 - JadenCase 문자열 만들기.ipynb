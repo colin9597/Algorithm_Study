{
 "cells": [
  {
   "cell_type": "markdown",
   "id": "5ea477c8",
   "metadata": {},
   "source": [
    "# JadenCase 문자열 만들기\n",
    "- 문제링크 https://programmers.co.kr/learn/courses/30/lessons/12951"
   ]
  },
  {
   "cell_type": "code",
   "execution_count": 1,
   "id": "b281a042",
   "metadata": {},
   "outputs": [],
   "source": [
    "def solution(s):\n",
    "    # s 문자열을 ' '을 기준으로 분리하여 리스트로 저장\n",
    "    str_list = s.split(' ')\n",
    "    # 수정한 단어를 넣을 리스트\n",
    "    result = []\n",
    "    for str in str_list:\n",
    "        # 한 문자로 된 단어이거나 공백 문자\n",
    "        if len(str) <= 1:\n",
    "            str = str.upper()\n",
    "        else:\n",
    "            str = str.replace(str[0], str[0].upper(), 1)\n",
    "            str = str.replace(str[1:], str[1:].lower(), 1)\n",
    "        result.append(str)\n",
    "    # 리스트의 원소들을 ' '으로 join\n",
    "    t = ' '\n",
    "    answer = t.join(result)\n",
    "    return answer"
   ]
  },
  {
   "cell_type": "code",
   "execution_count": 2,
   "id": "59b222ba",
   "metadata": {},
   "outputs": [
    {
     "name": "stdout",
     "output_type": "stream",
     "text": [
      "3people Unfollowed Me\n"
     ]
    }
   ],
   "source": [
    "print(solution(\"3people unFollowed me\"))"
   ]
  },
  {
   "cell_type": "code",
   "execution_count": 3,
   "id": "57437be5",
   "metadata": {},
   "outputs": [
    {
     "name": "stdout",
     "output_type": "stream",
     "text": [
      "For The Last Week\n"
     ]
    }
   ],
   "source": [
    "print(solution(\"for the last week\"))"
   ]
  }
 ],
 "metadata": {
  "kernelspec": {
   "display_name": "DH",
   "language": "python",
   "name": "dh"
  },
  "language_info": {
   "codemirror_mode": {
    "name": "ipython",
    "version": 3
   },
   "file_extension": ".py",
   "mimetype": "text/x-python",
   "name": "python",
   "nbconvert_exporter": "python",
   "pygments_lexer": "ipython3",
   "version": "3.8.8"
  }
 },
 "nbformat": 4,
 "nbformat_minor": 5
}
