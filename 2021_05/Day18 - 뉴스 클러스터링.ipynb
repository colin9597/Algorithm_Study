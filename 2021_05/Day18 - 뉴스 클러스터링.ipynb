{
 "cells": [
  {
   "cell_type": "markdown",
   "id": "ebfff04d",
   "metadata": {},
   "source": [
    "# 뉴스 클러스터링\n",
    "- 문제링크\n",
    "https://programmers.co.kr/learn/courses/30/lessons/17677?language=python3"
   ]
  },
  {
   "cell_type": "code",
   "execution_count": 1,
   "id": "ff4aa324",
   "metadata": {},
   "outputs": [],
   "source": [
    "# 정규표현식 사용\n",
    "import re"
   ]
  },
  {
   "cell_type": "code",
   "execution_count": 2,
   "id": "e7fb95a2",
   "metadata": {},
   "outputs": [],
   "source": [
    "# 교집합의 원소 수\n",
    "def intersect_Jacquard(list1, list2, intersection):\n",
    "    n1 = list1.count(intersection)\n",
    "    n2 = list2.count(intersection)\n",
    "    if n1 < n2:\n",
    "        return n1\n",
    "    else:\n",
    "        return n2\n",
    "\n",
    "# 합집합의 원소 수\n",
    "def union_Jacquard(list1, list2, union):\n",
    "    n1 = list1.count(union)\n",
    "    n2 = list2.count(union)\n",
    "    if n1 < n2:\n",
    "        return n2\n",
    "    else:\n",
    "        return n1"
   ]
  },
  {
   "cell_type": "code",
   "execution_count": 3,
   "id": "748db543",
   "metadata": {},
   "outputs": [],
   "source": [
    "# main 함수\n",
    "def solution(str1, str2):\n",
    "    # 소문자로 통일\n",
    "    str1 = str1.lower()\n",
    "    str2 = str2.lower()\n",
    "    \n",
    "    # 두 글자씩 넣은 리스트 생성\n",
    "    string_list1 = []\n",
    "    string_list2 = []\n",
    "    \n",
    "    # 정규표현식 패턴 (영문자 두 글자)\n",
    "    pattern = r'[a-z]{2}'\n",
    "    \n",
    "    # str1의 다중집합\n",
    "    string, string2 = '', ''\n",
    "    for i in range(len(str1)):\n",
    "        if re.match(pattern, str1[i:]):\n",
    "            string = re.match(pattern, str1[i:]).group()\n",
    "        if string:\n",
    "            string_list1.append(string)\n",
    "            string = ''\n",
    "    \n",
    "    # str2의 다중집합\n",
    "    for i in range(len(str2)):\n",
    "        if re.match(pattern, str2[i:]):\n",
    "            string2 = re.match(pattern, str2[i:]).group()\n",
    "        if string2:\n",
    "            string_list2.append(string2)\n",
    "            string2 = ''\n",
    "    \n",
    "    # 리스트를 집합으로 변경\n",
    "    string_set1 = set(string_list1)\n",
    "    string_set2 = set(string_list2)\n",
    "\n",
    "    # 교집합, 합집합\n",
    "    intersection = string_set1 & string_set2\n",
    "    union = string_set1 | string_set2\n",
    "    \n",
    "    # 조건에 맞게 교집합과 합집합의 원소 수 설정\n",
    "    n, m = 0, 0\n",
    "    for s in intersection:\n",
    "        n += intersect_Jacquard(string_list1, string_list2, s)\n",
    "\n",
    "    for s in union:\n",
    "        m += union_Jacquard(string_list1, string_list2, s)\n",
    "    \n",
    "    # 공집합이 있을 경우\n",
    "    if n == 0 | m ==0:\n",
    "        answer = 65536\n",
    "    else :\n",
    "        answer = int((n/m)*65536)\n",
    "    return answer"
   ]
  },
  {
   "cell_type": "markdown",
   "id": "f1ffdab9",
   "metadata": {},
   "source": [
    "- case1"
   ]
  },
  {
   "cell_type": "code",
   "execution_count": 4,
   "id": "1799105f",
   "metadata": {},
   "outputs": [
    {
     "name": "stdout",
     "output_type": "stream",
     "text": [
      "16384\n"
     ]
    }
   ],
   "source": [
    "str1 = \"FRANCE\"\n",
    "str2 = \"french\"\n",
    "print(solution(str1, str2))"
   ]
  },
  {
   "cell_type": "markdown",
   "id": "9875c4eb",
   "metadata": {},
   "source": [
    "- case2"
   ]
  },
  {
   "cell_type": "code",
   "execution_count": 5,
   "id": "a1bc819d",
   "metadata": {},
   "outputs": [
    {
     "name": "stdout",
     "output_type": "stream",
     "text": [
      "65536\n"
     ]
    }
   ],
   "source": [
    "str1 = \"handshake\"\n",
    "str2 = \"shake hands\"\n",
    "print(solution(str1, str2))"
   ]
  },
  {
   "cell_type": "markdown",
   "id": "4f2626b1",
   "metadata": {},
   "source": [
    "- case3"
   ]
  },
  {
   "cell_type": "code",
   "execution_count": 6,
   "id": "1e398638",
   "metadata": {},
   "outputs": [
    {
     "name": "stdout",
     "output_type": "stream",
     "text": [
      "43690\n"
     ]
    }
   ],
   "source": [
    "str1 = \"aa1+aa2\"\n",
    "str2 = \"AAAA12\"\n",
    "print(solution(str1, str2))"
   ]
  },
  {
   "cell_type": "markdown",
   "id": "3864c3e5",
   "metadata": {},
   "source": [
    "- case4"
   ]
  },
  {
   "cell_type": "code",
   "execution_count": 7,
   "id": "dc08514b",
   "metadata": {},
   "outputs": [
    {
     "name": "stdout",
     "output_type": "stream",
     "text": [
      "65536\n"
     ]
    }
   ],
   "source": [
    "str1 = \"E=M*C^2\"\n",
    "str2 = \"e=m*c^2\t\"\n",
    "print(solution(str1, str2))"
   ]
  }
 ],
 "metadata": {
  "kernelspec": {
   "display_name": "DH",
   "language": "python",
   "name": "dh"
  },
  "language_info": {
   "codemirror_mode": {
    "name": "ipython",
    "version": 3
   },
   "file_extension": ".py",
   "mimetype": "text/x-python",
   "name": "python",
   "nbconvert_exporter": "python",
   "pygments_lexer": "ipython3",
   "version": "3.8.8"
  }
 },
 "nbformat": 4,
 "nbformat_minor": 5
}
