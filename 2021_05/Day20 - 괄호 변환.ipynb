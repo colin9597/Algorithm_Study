{
 "cells": [
  {
   "cell_type": "markdown",
   "id": "fda482ae",
   "metadata": {},
   "source": [
    "# 괄호 변환\n",
    "- 링크 https://programmers.co.kr/learn/courses/30/lessons/60058"
   ]
  },
  {
   "cell_type": "markdown",
   "id": "6c02a25d",
   "metadata": {},
   "source": [
    "### 1. 혼자 풀이"
   ]
  },
  {
   "cell_type": "code",
   "execution_count": 1,
   "id": "954ac1d8",
   "metadata": {},
   "outputs": [],
   "source": [
    "def solution(p):\n",
    "    answer = ''\n",
    "    # \"(\", \")\" 개수 파악 / \")\"의 개수가 더 많다면 Stop\n",
    "    n_left, n_right = 0, 0\n",
    "    for i in range(len(p)):\n",
    "        if p[i] == \"(\":\n",
    "            n_left += 1\n",
    "        elif p[i] == \")\":\n",
    "            n_right += 1\n",
    "\n",
    "        if n_right > n_left:\n",
    "            break\n",
    "    \n",
    "    #  p가 \"올바른 괄호 문자열\"이라면 그대로 반환\n",
    "    if i+1 == len(p):\n",
    "        return p\n",
    "    \n",
    "    # 조건에 따라 u, v를 나누고 v에 대해 재귀함수 사용\n",
    "    else:\n",
    "        u = p[:i]\n",
    "        v = \"(\"\n",
    "        for j in p[i+1:-1]:\n",
    "            if j == \"(\":\n",
    "                v += \")\"\n",
    "            else:\n",
    "                v += \"(\"\n",
    "        v += \")\"\n",
    "\n",
    "        answer = u + solution(v)\n",
    "        return answer"
   ]
  },
  {
   "cell_type": "markdown",
   "id": "e768c6ed",
   "metadata": {},
   "source": [
    "- case1"
   ]
  },
  {
   "cell_type": "code",
   "execution_count": 2,
   "id": "2e391136",
   "metadata": {},
   "outputs": [
    {
     "name": "stdout",
     "output_type": "stream",
     "text": [
      "(()())()\n"
     ]
    }
   ],
   "source": [
    "p = \"(()())()\"\n",
    "print(solution(p))"
   ]
  },
  {
   "cell_type": "markdown",
   "id": "427f47b4",
   "metadata": {},
   "source": [
    "- case2"
   ]
  },
  {
   "cell_type": "code",
   "execution_count": 3,
   "id": "eb87065d",
   "metadata": {},
   "outputs": [
    {
     "name": "stdout",
     "output_type": "stream",
     "text": [
      "()\n"
     ]
    }
   ],
   "source": [
    "p = \")(\"\n",
    "print(solution(p))"
   ]
  },
  {
   "cell_type": "markdown",
   "id": "9a479abd",
   "metadata": {},
   "source": [
    "- case3"
   ]
  },
  {
   "cell_type": "code",
   "execution_count": 4,
   "id": "175871ae",
   "metadata": {
    "scrolled": true
   },
   "outputs": [
    {
     "name": "stdout",
     "output_type": "stream",
     "text": [
      "()(())()\n"
     ]
    }
   ],
   "source": [
    "p = \"()))((()\"\n",
    "print(solution(p))"
   ]
  },
  {
   "cell_type": "markdown",
   "id": "e91d0d90",
   "metadata": {},
   "source": [
    "> 입출력 예시는 통과했지만 몇몇 테스트에서 실패"
   ]
  },
  {
   "cell_type": "markdown",
   "id": "16dc7481",
   "metadata": {},
   "source": [
    "### 2. 구글링\n",
    "- 링크 https://eda-ai-lab.tistory.com/468"
   ]
  },
  {
   "cell_type": "code",
   "execution_count": 5,
   "id": "3bc50516",
   "metadata": {},
   "outputs": [],
   "source": [
    "def solution(p):\n",
    "    u, v = [], []\n",
    "    if correct(p): return p\n",
    "    for i in range(2, len(p)+1,2):\n",
    "        if balanced(p[:i]):\n",
    "            u, v = p[:i], p[i:]\n",
    "            break\n",
    "    if correct(u): return u + solution(v)\n",
    "    else:\n",
    "        return '(' + solution(v) + ')' + u[1:len(u)-1].replace('(','0').replace(')','(').replace('0',')')\n",
    "\n",
    "\n",
    "def balanced(b): return b.count('(') == b.count(')')\n",
    "\n",
    "\n",
    "def correct(c):\n",
    "    cnt = 0\n",
    "    for i in range(len(c)):\n",
    "        cnt = cnt + 1 if c[i] == '(' else cnt - 1\n",
    "        if cnt < 0: return False\n",
    "    return True"
   ]
  },
  {
   "cell_type": "markdown",
   "id": "98d4f47b",
   "metadata": {},
   "source": [
    "- case1"
   ]
  },
  {
   "cell_type": "code",
   "execution_count": 6,
   "id": "8aa41eeb",
   "metadata": {},
   "outputs": [
    {
     "name": "stdout",
     "output_type": "stream",
     "text": [
      "(()())()\n"
     ]
    }
   ],
   "source": [
    "p = \"(()())()\"\n",
    "print(solution(p))"
   ]
  },
  {
   "cell_type": "markdown",
   "id": "515cf321",
   "metadata": {},
   "source": [
    "- case2"
   ]
  },
  {
   "cell_type": "code",
   "execution_count": 7,
   "id": "297b9f40",
   "metadata": {},
   "outputs": [
    {
     "name": "stdout",
     "output_type": "stream",
     "text": [
      "()\n"
     ]
    }
   ],
   "source": [
    "p = \")(\"\n",
    "print(solution(p))"
   ]
  },
  {
   "cell_type": "markdown",
   "id": "e950a753",
   "metadata": {},
   "source": [
    "- case3"
   ]
  },
  {
   "cell_type": "code",
   "execution_count": 8,
   "id": "01c53ae5",
   "metadata": {
    "scrolled": true
   },
   "outputs": [
    {
     "name": "stdout",
     "output_type": "stream",
     "text": [
      "()(())()\n"
     ]
    }
   ],
   "source": [
    "p = \"()))((()\"\n",
    "print(solution(p))"
   ]
  },
  {
   "cell_type": "markdown",
   "id": "c20184fb",
   "metadata": {},
   "source": [
    "> 각각의 기능을 함수로 표현  \n",
    "> 시나리오 대로 구현"
   ]
  }
 ],
 "metadata": {
  "kernelspec": {
   "display_name": "DH",
   "language": "python",
   "name": "dh"
  },
  "language_info": {
   "codemirror_mode": {
    "name": "ipython",
    "version": 3
   },
   "file_extension": ".py",
   "mimetype": "text/x-python",
   "name": "python",
   "nbconvert_exporter": "python",
   "pygments_lexer": "ipython3",
   "version": "3.8.8"
  }
 },
 "nbformat": 4,
 "nbformat_minor": 5
}
