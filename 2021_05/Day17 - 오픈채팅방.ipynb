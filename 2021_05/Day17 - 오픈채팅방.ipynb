{
 "cells": [
  {
   "cell_type": "markdown",
   "id": "ecdb158c",
   "metadata": {},
   "source": [
    "# 오픈채팅방\n",
    "- 문제링크\n",
    "https://programmers.co.kr/learn/courses/30/lessons/42888#"
   ]
  },
  {
   "cell_type": "code",
   "execution_count": 1,
   "id": "09cdc684",
   "metadata": {},
   "outputs": [],
   "source": [
    "def solution(record):\n",
    "    user = {}\n",
    "    answer = []\n",
    "    for cmd in record:\n",
    "        data = cmd.split()\n",
    "        \n",
    "        if data[0] == \"Enter\":\n",
    "            user[data[1]] = data[2]\n",
    "        elif data[0] == \"Change\":\n",
    "            user[data[1]] = data[2]\n",
    "    \n",
    "    for cmd in record:\n",
    "        data = cmd.split()\n",
    "        if data[0] == \"Enter\":\n",
    "            answer.append(user[data[1]] + \"님이 들어왔습니다.\")\n",
    "        elif data[0] == \"Leave\":\n",
    "            answer.append(user[data[1]] + \"님이 나갔습니다.\")\n",
    "        else:\n",
    "            continue\n",
    "    \n",
    "    return answer"
   ]
  },
  {
   "cell_type": "code",
   "execution_count": 2,
   "id": "03433b24",
   "metadata": {},
   "outputs": [
    {
     "name": "stdout",
     "output_type": "stream",
     "text": [
      "['Prodo님이 들어왔습니다.', 'Ryan님이 들어왔습니다.', 'Prodo님이 나갔습니다.', 'Prodo님이 들어왔습니다.']\n"
     ]
    }
   ],
   "source": [
    "record = [\"Enter uid1234 Muzi\", \"Enter uid4567 Prodo\",\"Leave uid1234\",\"Enter uid1234 Prodo\",\"Change uid4567 Ryan\"]\n",
    "print(solution(record))"
   ]
  }
 ],
 "metadata": {
  "kernelspec": {
   "display_name": "DH",
   "language": "python",
   "name": "dh"
  },
  "language_info": {
   "codemirror_mode": {
    "name": "ipython",
    "version": 3
   },
   "file_extension": ".py",
   "mimetype": "text/x-python",
   "name": "python",
   "nbconvert_exporter": "python",
   "pygments_lexer": "ipython3",
   "version": "3.8.8"
  }
 },
 "nbformat": 4,
 "nbformat_minor": 5
}
