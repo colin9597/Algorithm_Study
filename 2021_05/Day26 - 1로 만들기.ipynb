{
 "cells": [
  {
   "cell_type": "markdown",
   "id": "cf1da5f9",
   "metadata": {},
   "source": [
    "# 1로 만들기\n",
    "- 링크 https://www.acmicpc.net/problem/1463"
   ]
  },
  {
   "cell_type": "markdown",
   "id": "b2f2ce3c",
   "metadata": {},
   "source": [
    "### 1. 혼자 풀이"
   ]
  },
  {
   "cell_type": "code",
   "execution_count": 1,
   "id": "c1970ec2",
   "metadata": {},
   "outputs": [
    {
     "name": "stdout",
     "output_type": "stream",
     "text": [
      "10\n",
      "3\n"
     ]
    }
   ],
   "source": [
    "# 정수 N \n",
    "n = int(input())\n",
    "\n",
    "# 다이나믹 프로그래밍\n",
    "d = [0] * 1000001  # 10^6 보다 작거나 같은 정수를 입력받으므로\n",
    "d[2], d[3] = 1, 1 # 초기값 설정\n",
    "for i in range(4, n+1):\n",
    "    if i % 3 == 0:\n",
    "        d[i] = min(d[i-1] + 1, d[i//3] + 1)\n",
    "    elif i % 2 == 0:\n",
    "        d[i] = min(d[i-1] + 1, d[i//2] + 1)\n",
    "    else:\n",
    "        d[i] = d[i-1] + 1\n",
    "\n",
    "print(d[n])"
   ]
  },
  {
   "cell_type": "markdown",
   "id": "b94c754d",
   "metadata": {},
   "source": [
    "> 예제 결과는 똑같이 나오지만, 테스트 결과가 틀림.  \n",
    "\n",
    "> 연산 조건을 병렬로 처리해야 함."
   ]
  },
  {
   "cell_type": "markdown",
   "id": "bd501bd5",
   "metadata": {},
   "source": [
    "### 2. '[한빛미디어] 이것이 취업을 위한 코딩테스트이다 with 파이썬' 참고"
   ]
  },
  {
   "cell_type": "code",
   "execution_count": 2,
   "id": "47c07116",
   "metadata": {},
   "outputs": [
    {
     "name": "stdout",
     "output_type": "stream",
     "text": [
      "10\n",
      "3\n"
     ]
    }
   ],
   "source": [
    "n = int(input())\n",
    "d = [0] * 1000001\n",
    "\n",
    "for i in range(2, n+1):\n",
    "    d[i] = d[i-1] + 1\n",
    "    \n",
    "    if i % 2 == 0:\n",
    "        d[i] = min(d[i], d[i//2] + 1)\n",
    "    if i % 3 == 0:\n",
    "        d[i] = min(d[i], d[i//3] + 1)\n",
    "\n",
    "print(d[n])"
   ]
  },
  {
   "cell_type": "markdown",
   "id": "30240093",
   "metadata": {},
   "source": [
    "> 테스트 결과 성공으로 나옴."
   ]
  }
 ],
 "metadata": {
  "kernelspec": {
   "display_name": "DH",
   "language": "python",
   "name": "dh"
  },
  "language_info": {
   "codemirror_mode": {
    "name": "ipython",
    "version": 3
   },
   "file_extension": ".py",
   "mimetype": "text/x-python",
   "name": "python",
   "nbconvert_exporter": "python",
   "pygments_lexer": "ipython3",
   "version": "3.8.8"
  }
 },
 "nbformat": 4,
 "nbformat_minor": 5
}
