{
 "cells": [
  {
   "cell_type": "markdown",
   "id": "02f92644",
   "metadata": {},
   "source": [
    "# 프린터 큐\n",
    "- 링크 https://www.acmicpc.net/problem/1966"
   ]
  },
  {
   "cell_type": "markdown",
   "id": "60d34d21",
   "metadata": {},
   "source": [
    "### 1. Heapq 사용"
   ]
  },
  {
   "cell_type": "code",
   "execution_count": 1,
   "id": "3878753a",
   "metadata": {},
   "outputs": [
    {
     "name": "stdout",
     "output_type": "stream",
     "text": [
      "3\n",
      "1 0\n",
      "5\n",
      "1\n",
      "4 2\n",
      "1 2 3 4\n",
      "2\n",
      "6 0\n",
      "1 1 9 1 1 1\n",
      "3\n"
     ]
    }
   ],
   "source": [
    "import heapq\n",
    "test = int(input())\n",
    "\n",
    "for i in range(test):\n",
    "    heap = []\n",
    "    n, m = map(int, input().split())\n",
    "    importance = list(map(int, input().split()))\n",
    "    for j in range(n):\n",
    "        # 파이썬에서는 최소힙만 지원하므로 중요도 * (-1)을 해줌.\n",
    "        heapq.heappush(heap, (-importance[j], j))\n",
    "    # 현재 m번째에 놓여 있는 문서의 출력 순서\n",
    "    print(heap.index((-importance[m], m)) + 1)"
   ]
  },
  {
   "cell_type": "markdown",
   "id": "9b275709",
   "metadata": {},
   "source": [
    "> 중요도가 높은 문서부터 인쇄가 되지만, 중요도가 같은 문서인 경우 출력 순서가 예제와 다르다."
   ]
  },
  {
   "cell_type": "markdown",
   "id": "4cfc74b1",
   "metadata": {},
   "source": [
    "### 2. List 사용"
   ]
  },
  {
   "cell_type": "code",
   "execution_count": 2,
   "id": "278cb03d",
   "metadata": {},
   "outputs": [
    {
     "name": "stdout",
     "output_type": "stream",
     "text": [
      "3\n",
      "1 0\n",
      "5\n",
      "1\n",
      "4 2\n",
      "1 2 3 4\n",
      "2\n",
      "6 0\n",
      "1 1 9 1 1 1\n",
      "5\n"
     ]
    }
   ],
   "source": [
    "test = int(input())\n",
    "for i in range(test):\n",
    "    n, m = map(int, input().split())\n",
    "    importance = list(map(int, input().split()))\n",
    "    # (중요도, 현재 몇 번째에 놓여 있는지에 대한 인덱스) 쌍을 넣은 리스트\n",
    "    input_data = []\n",
    "    for j in range(n):\n",
    "        input_data.append((importance[j], j))\n",
    "    \n",
    "    # 후에 출력 순서를 알아내기 위해 미리 변수에 저장\n",
    "    m = input_data[m]\n",
    "    # 출력 순서대로 삽입할 리스트\n",
    "    order = []\n",
    "\n",
    "    while input_data:\n",
    "        # 중요도가 가장 높다면, 출력 리스트에 삽입 / 중요도 리스트에서 삭제\n",
    "        if input_data[0][0] == max(importance):\n",
    "            order.append(input_data[0])\n",
    "            importance.remove(input_data[0][0])\n",
    "            input_data.remove(input_data[0])\n",
    "            \n",
    "        # 가장 높은 중요도가 아니라면 맨끝으로 보냄.\n",
    "        else:\n",
    "            temp = input_data[0]\n",
    "            input_data.remove(input_data[0])\n",
    "            input_data.append(temp)\n",
    "    # 현재 m번째에 놓여 있는 문서의 출력 순서\n",
    "    print(order.index(m)+1)"
   ]
  },
  {
   "cell_type": "markdown",
   "id": "bc23e7eb",
   "metadata": {},
   "source": [
    "> 기본 리스트를 사용하여 구현"
   ]
  }
 ],
 "metadata": {
  "kernelspec": {
   "display_name": "DH",
   "language": "python",
   "name": "dh"
  },
  "language_info": {
   "codemirror_mode": {
    "name": "ipython",
    "version": 3
   },
   "file_extension": ".py",
   "mimetype": "text/x-python",
   "name": "python",
   "nbconvert_exporter": "python",
   "pygments_lexer": "ipython3",
   "version": "3.8.8"
  }
 },
 "nbformat": 4,
 "nbformat_minor": 5
}
