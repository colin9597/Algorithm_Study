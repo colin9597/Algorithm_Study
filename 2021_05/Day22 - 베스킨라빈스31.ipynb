{
 "cells": [
  {
   "cell_type": "markdown",
   "id": "312ee15b",
   "metadata": {},
   "source": [
    "# 베스킨라빈스31\n",
    "- 링크 https://www.acmicpc.net/problem/20004"
   ]
  },
  {
   "cell_type": "code",
   "execution_count": 1,
   "id": "37bad79e",
   "metadata": {},
   "outputs": [
    {
     "name": "stdout",
     "output_type": "stream",
     "text": [
      "A : 2\n",
      "이길 수 있는 n : 1\n",
      "이길 수 있는 n : 2\n"
     ]
    }
   ],
   "source": [
    "# A값 입력(1<=n<=A)\n",
    "a = int(input(\"A : \"))\n",
    "# 게임을 이길 수 있는 모든 n 출력\n",
    "for n in range(1, a+1):\n",
    "    if 30 % (n+1) == 0:\n",
    "        print(\"이길 수 있는 n :\", n)"
   ]
  },
  {
   "cell_type": "markdown",
   "id": "ea679147",
   "metadata": {},
   "source": [
    "> **필승 전략 : 마지막에 30을 만들 수 있어야 함.**  \n",
    "> 후공이고 1개 이상, N개 이하의 수를 연달아 부를 수 있다고 하자.  \n",
    "> **'30 % (N+1) == 0'** 을 만족한다면 후공 순서때마다 (N+1) 배수의 수를 만듦으로써 마지막에 30을 만들 수 있다.  \n",
    "\n",
    "> ex) N = 5, 민우가 선공, 시온이가 후공이라고 하자.       \n",
    "    >> 민우 : 1, 2, 3 => 시온 : 4, 5, 6    \n",
    "    >> 민우 : 7, 8 => 시온 : 9, 10, 11, 12  \n",
    "    >> 민우 : 13 => 시온 : 14, 15, 16, 17, 18  \n",
    "    >> 위와 같이 후공(시온)이 N+1 배수를 계속해서 만들어 가다보면 마지막에 30을 만들 수 있다."
   ]
  }
 ],
 "metadata": {
  "kernelspec": {
   "display_name": "DH",
   "language": "python",
   "name": "dh"
  },
  "language_info": {
   "codemirror_mode": {
    "name": "ipython",
    "version": 3
   },
   "file_extension": ".py",
   "mimetype": "text/x-python",
   "name": "python",
   "nbconvert_exporter": "python",
   "pygments_lexer": "ipython3",
   "version": "3.8.8"
  }
 },
 "nbformat": 4,
 "nbformat_minor": 5
}
